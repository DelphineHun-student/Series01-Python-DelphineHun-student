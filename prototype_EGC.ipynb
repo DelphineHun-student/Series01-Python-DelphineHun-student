{
 "cells": [
  {
   "cell_type": "code",
   "execution_count": 1,
   "id": "66c73cc0",
   "metadata": {},
   "outputs": [],
   "source": [
    "# Import necessary libraries\n",
    "import numpy as np\n",
    "import matplotlib.pyplot as plt"
   ]
  },
  {
   "cell_type": "markdown",
   "id": "2ec120cf",
   "metadata": {},
   "source": [
    "## Load the data"
   ]
  },
  {
   "cell_type": "code",
   "execution_count": null,
   "id": "c6a97393",
   "metadata": {},
   "outputs": [
    {
     "name": "stdout",
     "output_type": "stream",
     "text": [
      "[[-275. -119. -119.]\n",
      " [-275. -119. -119.]\n",
      " [-275. -118. -121.]\n",
      " ...\n",
      " [  -4.  -83.   21.]\n",
      " [  -9.  -88.   31.]\n",
      " [ -16.  -96.   33.]]\n",
      "(6500, 3)\n"
     ]
    }
   ],
   "source": [
    "data = np.loadtxt('data/ECGu.txt') # Load the ECG data from a text file\n",
    "print(data) # Print the data to see its structure\n",
    "print(data.shape) # (number of rows, number of columns)"
   ]
  },
  {
   "cell_type": "markdown",
   "id": "3742cb31",
   "metadata": {},
   "source": [
    "## Conversion to mV and seconds"
   ]
  },
  {
   "cell_type": "code",
   "execution_count": 10,
   "id": "a9bc909b",
   "metadata": {},
   "outputs": [
    {
     "name": "stdout",
     "output_type": "stream",
     "text": [
      "[[-281.6   -121.856 -121.856]\n",
      " [-281.6   -121.856 -121.856]\n",
      " [-281.6   -120.832 -123.904]\n",
      " ...\n",
      " [  -4.096  -84.992   21.504]\n",
      " [  -9.216  -90.112   31.744]\n",
      " [ -16.384  -98.304   33.792]]\n"
     ]
    }
   ],
   "source": [
    "ecg_mv = data * 1.024\n",
    "print(ecg_mv)"
   ]
  }
 ],
 "metadata": {
  "kernelspec": {
   "display_name": "base",
   "language": "python",
   "name": "python3"
  },
  "language_info": {
   "codemirror_mode": {
    "name": "ipython",
    "version": 3
   },
   "file_extension": ".py",
   "mimetype": "text/x-python",
   "name": "python",
   "nbconvert_exporter": "python",
   "pygments_lexer": "ipython3",
   "version": "3.13.5"
  }
 },
 "nbformat": 4,
 "nbformat_minor": 5
}
